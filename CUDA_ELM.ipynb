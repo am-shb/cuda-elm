{
  "nbformat": 4,
  "nbformat_minor": 0,
  "metadata": {
    "accelerator": "GPU",
    "colab": {
      "name": "ML Final Project.ipynb",
      "provenance": [],
      "collapsed_sections": [
        "9J1RS2hbhjeS"
      ]
    },
    "kernelspec": {
      "display_name": "Python 3",
      "name": "python3"
    },
    "language_info": {
      "name": "python"
    }
  },
  "cells": [
    {
      "cell_type": "markdown",
      "metadata": {
        "id": "coCxp64_emww"
      },
      "source": [
        "# Machine Learning Final Project\n",
        "\n",
        "## Amirmohammad Shahbandegan (Student ID: 1172613)\n",
        "## Aditya Singhal (Student ID: 1154832)\n",
        "## 10 December 2021\n"
      ]
    },
    {
      "cell_type": "markdown",
      "metadata": {
        "id": "s5KGfMz6fC8a"
      },
      "source": [
        "# Introduction\n",
        "This project has two main stages. First each image dataset in the dataset is converted to a numerical feature vector. This stage is done using Python and stored in a file for later use in the CUDA C++ code.\n",
        "In the second stage, Extreme Learning Machine (ELM) algorithm is implemented using CUDA C++. All of the training and prediction is done in this part.\n",
        "Finally, to show and compare the results, Python is again used.\n",
        "The following architecture is tested using two dataset: **Caltech101** and **Caltech256**.\n",
        "\n",
        "\n",
        "As we go through the notebook, more information is provided. However, the full discussion can be found in the accompanying report file."
      ]
    },
    {
      "cell_type": "markdown",
      "metadata": {
        "id": "9J1RS2hbhjeS"
      },
      "source": [
        "# Importing packages"
      ]
    },
    {
      "cell_type": "code",
      "metadata": {
        "id": "yqBZVoqVqsZV",
        "colab": {
          "base_uri": "https://localhost:8080/"
        },
        "outputId": "93c1ac83-1e60-4989-a866-eb3c1d40b709"
      },
      "source": [
        "!pip install pyunpack patool pydrive gdown"
      ],
      "execution_count": 1,
      "outputs": [
        {
          "output_type": "stream",
          "name": "stdout",
          "text": [
            "Requirement already satisfied: pyunpack in /usr/local/lib/python3.7/dist-packages (0.2.2)\n",
            "Requirement already satisfied: patool in /usr/local/lib/python3.7/dist-packages (1.12)\n",
            "Requirement already satisfied: pydrive in /usr/local/lib/python3.7/dist-packages (1.3.1)\n",
            "Requirement already satisfied: gdown in /usr/local/lib/python3.7/dist-packages (3.6.4)\n",
            "Requirement already satisfied: easyprocess in /usr/local/lib/python3.7/dist-packages (from pyunpack) (0.3)\n",
            "Requirement already satisfied: entrypoint2 in /usr/local/lib/python3.7/dist-packages (from pyunpack) (0.2.4)\n",
            "Requirement already satisfied: google-api-python-client>=1.2 in /usr/local/lib/python3.7/dist-packages (from pydrive) (1.12.8)\n",
            "Requirement already satisfied: oauth2client>=4.0.0 in /usr/local/lib/python3.7/dist-packages (from pydrive) (4.1.3)\n",
            "Requirement already satisfied: PyYAML>=3.0 in /usr/local/lib/python3.7/dist-packages (from pydrive) (3.13)\n",
            "Requirement already satisfied: uritemplate<4dev,>=3.0.0 in /usr/local/lib/python3.7/dist-packages (from google-api-python-client>=1.2->pydrive) (3.0.1)\n",
            "Requirement already satisfied: google-api-core<2dev,>=1.21.0 in /usr/local/lib/python3.7/dist-packages (from google-api-python-client>=1.2->pydrive) (1.26.3)\n",
            "Requirement already satisfied: google-auth-httplib2>=0.0.3 in /usr/local/lib/python3.7/dist-packages (from google-api-python-client>=1.2->pydrive) (0.0.4)\n",
            "Requirement already satisfied: google-auth>=1.16.0 in /usr/local/lib/python3.7/dist-packages (from google-api-python-client>=1.2->pydrive) (1.35.0)\n",
            "Requirement already satisfied: six<2dev,>=1.13.0 in /usr/local/lib/python3.7/dist-packages (from google-api-python-client>=1.2->pydrive) (1.15.0)\n",
            "Requirement already satisfied: httplib2<1dev,>=0.15.0 in /usr/local/lib/python3.7/dist-packages (from google-api-python-client>=1.2->pydrive) (0.17.4)\n",
            "Requirement already satisfied: googleapis-common-protos<2.0dev,>=1.6.0 in /usr/local/lib/python3.7/dist-packages (from google-api-core<2dev,>=1.21.0->google-api-python-client>=1.2->pydrive) (1.53.0)\n",
            "Requirement already satisfied: setuptools>=40.3.0 in /usr/local/lib/python3.7/dist-packages (from google-api-core<2dev,>=1.21.0->google-api-python-client>=1.2->pydrive) (57.4.0)\n",
            "Requirement already satisfied: protobuf>=3.12.0 in /usr/local/lib/python3.7/dist-packages (from google-api-core<2dev,>=1.21.0->google-api-python-client>=1.2->pydrive) (3.17.3)\n",
            "Requirement already satisfied: packaging>=14.3 in /usr/local/lib/python3.7/dist-packages (from google-api-core<2dev,>=1.21.0->google-api-python-client>=1.2->pydrive) (21.3)\n",
            "Requirement already satisfied: requests<3.0.0dev,>=2.18.0 in /usr/local/lib/python3.7/dist-packages (from google-api-core<2dev,>=1.21.0->google-api-python-client>=1.2->pydrive) (2.23.0)\n",
            "Requirement already satisfied: pytz in /usr/local/lib/python3.7/dist-packages (from google-api-core<2dev,>=1.21.0->google-api-python-client>=1.2->pydrive) (2018.9)\n",
            "Requirement already satisfied: rsa<5,>=3.1.4 in /usr/local/lib/python3.7/dist-packages (from google-auth>=1.16.0->google-api-python-client>=1.2->pydrive) (4.8)\n",
            "Requirement already satisfied: cachetools<5.0,>=2.0.0 in /usr/local/lib/python3.7/dist-packages (from google-auth>=1.16.0->google-api-python-client>=1.2->pydrive) (4.2.4)\n",
            "Requirement already satisfied: pyasn1-modules>=0.2.1 in /usr/local/lib/python3.7/dist-packages (from google-auth>=1.16.0->google-api-python-client>=1.2->pydrive) (0.2.8)\n",
            "Requirement already satisfied: pyasn1>=0.1.7 in /usr/local/lib/python3.7/dist-packages (from oauth2client>=4.0.0->pydrive) (0.4.8)\n",
            "Requirement already satisfied: pyparsing!=3.0.5,>=2.0.2 in /usr/local/lib/python3.7/dist-packages (from packaging>=14.3->google-api-core<2dev,>=1.21.0->google-api-python-client>=1.2->pydrive) (3.0.6)\n",
            "Requirement already satisfied: chardet<4,>=3.0.2 in /usr/local/lib/python3.7/dist-packages (from requests<3.0.0dev,>=2.18.0->google-api-core<2dev,>=1.21.0->google-api-python-client>=1.2->pydrive) (3.0.4)\n",
            "Requirement already satisfied: certifi>=2017.4.17 in /usr/local/lib/python3.7/dist-packages (from requests<3.0.0dev,>=2.18.0->google-api-core<2dev,>=1.21.0->google-api-python-client>=1.2->pydrive) (2021.10.8)\n",
            "Requirement already satisfied: urllib3!=1.25.0,!=1.25.1,<1.26,>=1.21.1 in /usr/local/lib/python3.7/dist-packages (from requests<3.0.0dev,>=2.18.0->google-api-core<2dev,>=1.21.0->google-api-python-client>=1.2->pydrive) (1.24.3)\n",
            "Requirement already satisfied: idna<3,>=2.5 in /usr/local/lib/python3.7/dist-packages (from requests<3.0.0dev,>=2.18.0->google-api-core<2dev,>=1.21.0->google-api-python-client>=1.2->pydrive) (2.10)\n",
            "Requirement already satisfied: tqdm in /usr/local/lib/python3.7/dist-packages (from gdown) (4.62.3)\n"
          ]
        }
      ]
    },
    {
      "cell_type": "code",
      "metadata": {
        "id": "Q-RmbEBuhgnM"
      },
      "source": [
        "import tensorflow as tf\n",
        "import tensorflow.keras as K\n",
        "from tensorflow.keras.utils import to_categorical\n",
        "from sklearn import preprocessing\n",
        "import numpy as np\n",
        "from pyunpack import Archive\n",
        "import os\n",
        "import cv2\n",
        "import shutil\n",
        "import matplotlib.pyplot as plt\n",
        "import pandas as pd"
      ],
      "execution_count": 2,
      "outputs": []
    },
    {
      "cell_type": "markdown",
      "metadata": {
        "id": "HQNeuKZdkKMM"
      },
      "source": [
        "# Loading the data\n",
        "\n",
        "1. Download and extact the dataset\n",
        "2. Resize the images to 224x224 which is the same as DenseNet input\n",
        "3. Build the (X,y) pairs for test and train"
      ]
    },
    {
      "cell_type": "markdown",
      "metadata": {
        "id": "LaGksJELk12f"
      },
      "source": [
        "## Caltech101\n"
      ]
    },
    {
      "cell_type": "code",
      "metadata": {
        "colab": {
          "base_uri": "https://localhost:8080/"
        },
        "id": "7Sqjcwyak5Zx",
        "outputId": "f0c94b4c-d91e-4579-e657-032b97c10bf4"
      },
      "source": [
        "!gdown --id 137RyRjvTBkBiIfeYBNZBtViDHQ6_Ewsp"
      ],
      "execution_count": 3,
      "outputs": [
        {
          "output_type": "stream",
          "name": "stdout",
          "text": [
            "Downloading...\n",
            "From: https://drive.google.com/uc?id=137RyRjvTBkBiIfeYBNZBtViDHQ6_Ewsp\n",
            "To: /content/101_ObjectCategories.tar.gz\n",
            "100% 132M/132M [00:00<00:00, 142MB/s]\n"
          ]
        }
      ]
    },
    {
      "cell_type": "code",
      "metadata": {
        "id": "j0kt5-e4k480",
        "colab": {
          "base_uri": "https://localhost:8080/"
        },
        "outputId": "43ae5dfe-3979-4ccf-eecc-94b82a10cb19"
      },
      "source": [
        "Archive('101_ObjectCategories.tar.gz').extractall('.')\n",
        "shutil.rmtree('/content/101_ObjectCategories/BACKGROUND_Google')\n",
        "\n",
        "X_train_101 = []\n",
        "y_train_101 = []\n",
        "X_test_101 = []\n",
        "y_test_101 = []\n",
        "\n",
        "for cid, category in enumerate(sorted(os.listdir('101_ObjectCategories'))):\n",
        "    print('loading category: '+str(cid)+'.'+str(category))\n",
        "    files = os.listdir('101_ObjectCategories/'+category)\n",
        "    np.random.shuffle(files)\n",
        "    for i, file in enumerate(files):\n",
        "        img = cv2.imread('101_ObjectCategories/'+category+'/'+file)\n",
        "        img = cv2.resize(img, (224,224))\n",
        "        if i < 30:\n",
        "          x = np.reshape(img, (224, 224, 3))\n",
        "          X_train_101.append(x)\n",
        "          y_train_101.append(cid)\n",
        "        else:\n",
        "          x = np.reshape(img, (224, 224, 3))\n",
        "          X_test_101.append(x)\n",
        "          y_test_101.append(cid)\n",
        "\n",
        "\n",
        "X_train_101 = np.array(X_train_101)\n",
        "y_train_101 = to_categorical(np.array(y_train_101), 101)\n",
        "X_test_101 = np.array(X_test_101)\n",
        "y_test_101 = to_categorical(np.array(y_test_101), 101)"
      ],
      "execution_count": 4,
      "outputs": [
        {
          "output_type": "stream",
          "name": "stdout",
          "text": [
            "loading category: 0.Faces\n",
            "loading category: 1.Faces_easy\n",
            "loading category: 2.Leopards\n",
            "loading category: 3.Motorbikes\n",
            "loading category: 4.accordion\n",
            "loading category: 5.airplanes\n",
            "loading category: 6.anchor\n",
            "loading category: 7.ant\n",
            "loading category: 8.barrel\n",
            "loading category: 9.bass\n",
            "loading category: 10.beaver\n",
            "loading category: 11.binocular\n",
            "loading category: 12.bonsai\n",
            "loading category: 13.brain\n",
            "loading category: 14.brontosaurus\n",
            "loading category: 15.buddha\n",
            "loading category: 16.butterfly\n",
            "loading category: 17.camera\n",
            "loading category: 18.cannon\n",
            "loading category: 19.car_side\n",
            "loading category: 20.ceiling_fan\n",
            "loading category: 21.cellphone\n",
            "loading category: 22.chair\n",
            "loading category: 23.chandelier\n",
            "loading category: 24.cougar_body\n",
            "loading category: 25.cougar_face\n",
            "loading category: 26.crab\n",
            "loading category: 27.crayfish\n",
            "loading category: 28.crocodile\n",
            "loading category: 29.crocodile_head\n",
            "loading category: 30.cup\n",
            "loading category: 31.dalmatian\n",
            "loading category: 32.dollar_bill\n",
            "loading category: 33.dolphin\n",
            "loading category: 34.dragonfly\n",
            "loading category: 35.electric_guitar\n",
            "loading category: 36.elephant\n",
            "loading category: 37.emu\n",
            "loading category: 38.euphonium\n",
            "loading category: 39.ewer\n",
            "loading category: 40.ferry\n",
            "loading category: 41.flamingo\n",
            "loading category: 42.flamingo_head\n",
            "loading category: 43.garfield\n",
            "loading category: 44.gerenuk\n",
            "loading category: 45.gramophone\n",
            "loading category: 46.grand_piano\n",
            "loading category: 47.hawksbill\n",
            "loading category: 48.headphone\n",
            "loading category: 49.hedgehog\n",
            "loading category: 50.helicopter\n",
            "loading category: 51.ibis\n",
            "loading category: 52.inline_skate\n",
            "loading category: 53.joshua_tree\n",
            "loading category: 54.kangaroo\n",
            "loading category: 55.ketch\n",
            "loading category: 56.lamp\n",
            "loading category: 57.laptop\n",
            "loading category: 58.llama\n",
            "loading category: 59.lobster\n",
            "loading category: 60.lotus\n",
            "loading category: 61.mandolin\n",
            "loading category: 62.mayfly\n",
            "loading category: 63.menorah\n",
            "loading category: 64.metronome\n",
            "loading category: 65.minaret\n",
            "loading category: 66.nautilus\n",
            "loading category: 67.octopus\n",
            "loading category: 68.okapi\n",
            "loading category: 69.pagoda\n",
            "loading category: 70.panda\n",
            "loading category: 71.pigeon\n",
            "loading category: 72.pizza\n",
            "loading category: 73.platypus\n",
            "loading category: 74.pyramid\n",
            "loading category: 75.revolver\n",
            "loading category: 76.rhino\n",
            "loading category: 77.rooster\n",
            "loading category: 78.saxophone\n",
            "loading category: 79.schooner\n",
            "loading category: 80.scissors\n",
            "loading category: 81.scorpion\n",
            "loading category: 82.sea_horse\n",
            "loading category: 83.snoopy\n",
            "loading category: 84.soccer_ball\n",
            "loading category: 85.stapler\n",
            "loading category: 86.starfish\n",
            "loading category: 87.stegosaurus\n",
            "loading category: 88.stop_sign\n",
            "loading category: 89.strawberry\n",
            "loading category: 90.sunflower\n",
            "loading category: 91.tick\n",
            "loading category: 92.trilobite\n",
            "loading category: 93.umbrella\n",
            "loading category: 94.watch\n",
            "loading category: 95.water_lilly\n",
            "loading category: 96.wheelchair\n",
            "loading category: 97.wild_cat\n",
            "loading category: 98.windsor_chair\n",
            "loading category: 99.wrench\n",
            "loading category: 100.yin_yang\n"
          ]
        }
      ]
    },
    {
      "cell_type": "markdown",
      "metadata": {
        "id": "5a9V3NzLSsF4"
      },
      "source": [
        "## Caltech256"
      ]
    },
    {
      "cell_type": "code",
      "metadata": {
        "id": "_pH07myOXvmX",
        "colab": {
          "base_uri": "https://localhost:8080/"
        },
        "outputId": "f4d2940e-5d66-4301-ceac-ea4de3dfb8de"
      },
      "source": [
        "!gdown --id 1k1Pz8jJ1wY-jFnCiPv1Pm0shnHCZ2pDJ"
      ],
      "execution_count": 5,
      "outputs": [
        {
          "output_type": "stream",
          "name": "stdout",
          "text": [
            "Downloading...\n",
            "From: https://drive.google.com/uc?id=1k1Pz8jJ1wY-jFnCiPv1Pm0shnHCZ2pDJ\n",
            "To: /content/256_ObjectCategories.tar\n",
            "100% 1.18G/1.18G [00:07<00:00, 155MB/s]\n"
          ]
        }
      ]
    },
    {
      "cell_type": "code",
      "metadata": {
        "id": "MQ9VjfMYUGA-",
        "colab": {
          "base_uri": "https://localhost:8080/"
        },
        "outputId": "776e33db-0d58-419e-8304-aac7e0869b82"
      },
      "source": [
        "Archive('256_ObjectCategories.tar').extractall('.')\n",
        "os.rmdir('/content/256_ObjectCategories/056.dog/greg/vision309')\n",
        "os.rmdir('/content/256_ObjectCategories/056.dog/greg')\n",
        "os.remove('/content/256_ObjectCategories/198.spider/RENAME2')\n",
        "shutil.rmtree('/content/256_ObjectCategories/257.clutter')\n",
        "\n",
        "X_train_256 = []\n",
        "y_train_256 = []\n",
        "X_test_256 = []\n",
        "y_test_256 = []\n",
        "\n",
        "for category in sorted(os.listdir('256_ObjectCategories')):\n",
        "    print('loading category: '+str(category))\n",
        "    files = os.listdir('256_ObjectCategories/'+category)\n",
        "    np.random.shuffle(files)\n",
        "    for i, file in enumerate(files):\n",
        "        img = cv2.imread('256_ObjectCategories/'+category+'/'+file)\n",
        "        img = cv2.resize(img, (224,224))\n",
        "        if i < 30:\n",
        "          x = np.reshape(img, (224, 224, 3))\n",
        "          X_train_256.append(x)\n",
        "          y_train_256.append(int(category.split('.')[0])-1)\n",
        "        else:\n",
        "          x = np.reshape(img, (224, 224, 3))\n",
        "          X_test_256.append(x)\n",
        "          y_test_256.append(int(category.split('.')[0])-1)\n",
        "\n",
        "\n",
        "X_train_256 = np.array(X_train_256)\n",
        "y_train_256 = to_categorical(np.array(y_train_256), 256)\n",
        "X_test_256 = np.array(X_test_256)\n",
        "y_test_256 = to_categorical(np.array(y_test_256), 256)\n"
      ],
      "execution_count": 6,
      "outputs": [
        {
          "output_type": "stream",
          "name": "stdout",
          "text": [
            "loading category: 001.ak47\n",
            "loading category: 002.american-flag\n",
            "loading category: 003.backpack\n",
            "loading category: 004.baseball-bat\n",
            "loading category: 005.baseball-glove\n",
            "loading category: 006.basketball-hoop\n",
            "loading category: 007.bat\n",
            "loading category: 008.bathtub\n",
            "loading category: 009.bear\n",
            "loading category: 010.beer-mug\n",
            "loading category: 011.billiards\n",
            "loading category: 012.binoculars\n",
            "loading category: 013.birdbath\n",
            "loading category: 014.blimp\n",
            "loading category: 015.bonsai-101\n",
            "loading category: 016.boom-box\n",
            "loading category: 017.bowling-ball\n",
            "loading category: 018.bowling-pin\n",
            "loading category: 019.boxing-glove\n",
            "loading category: 020.brain-101\n",
            "loading category: 021.breadmaker\n",
            "loading category: 022.buddha-101\n",
            "loading category: 023.bulldozer\n",
            "loading category: 024.butterfly\n",
            "loading category: 025.cactus\n",
            "loading category: 026.cake\n",
            "loading category: 027.calculator\n",
            "loading category: 028.camel\n",
            "loading category: 029.cannon\n",
            "loading category: 030.canoe\n",
            "loading category: 031.car-tire\n",
            "loading category: 032.cartman\n",
            "loading category: 033.cd\n",
            "loading category: 034.centipede\n",
            "loading category: 035.cereal-box\n",
            "loading category: 036.chandelier-101\n",
            "loading category: 037.chess-board\n",
            "loading category: 038.chimp\n",
            "loading category: 039.chopsticks\n",
            "loading category: 040.cockroach\n",
            "loading category: 041.coffee-mug\n",
            "loading category: 042.coffin\n",
            "loading category: 043.coin\n",
            "loading category: 044.comet\n",
            "loading category: 045.computer-keyboard\n",
            "loading category: 046.computer-monitor\n",
            "loading category: 047.computer-mouse\n",
            "loading category: 048.conch\n",
            "loading category: 049.cormorant\n",
            "loading category: 050.covered-wagon\n",
            "loading category: 051.cowboy-hat\n",
            "loading category: 052.crab-101\n",
            "loading category: 053.desk-globe\n",
            "loading category: 054.diamond-ring\n",
            "loading category: 055.dice\n",
            "loading category: 056.dog\n",
            "loading category: 057.dolphin-101\n",
            "loading category: 058.doorknob\n",
            "loading category: 059.drinking-straw\n",
            "loading category: 060.duck\n",
            "loading category: 061.dumb-bell\n",
            "loading category: 062.eiffel-tower\n",
            "loading category: 063.electric-guitar-101\n",
            "loading category: 064.elephant-101\n",
            "loading category: 065.elk\n",
            "loading category: 066.ewer-101\n",
            "loading category: 067.eyeglasses\n",
            "loading category: 068.fern\n",
            "loading category: 069.fighter-jet\n",
            "loading category: 070.fire-extinguisher\n",
            "loading category: 071.fire-hydrant\n",
            "loading category: 072.fire-truck\n",
            "loading category: 073.fireworks\n",
            "loading category: 074.flashlight\n",
            "loading category: 075.floppy-disk\n",
            "loading category: 076.football-helmet\n",
            "loading category: 077.french-horn\n",
            "loading category: 078.fried-egg\n",
            "loading category: 079.frisbee\n",
            "loading category: 080.frog\n",
            "loading category: 081.frying-pan\n",
            "loading category: 082.galaxy\n",
            "loading category: 083.gas-pump\n",
            "loading category: 084.giraffe\n",
            "loading category: 085.goat\n",
            "loading category: 086.golden-gate-bridge\n",
            "loading category: 087.goldfish\n",
            "loading category: 088.golf-ball\n",
            "loading category: 089.goose\n",
            "loading category: 090.gorilla\n",
            "loading category: 091.grand-piano-101\n",
            "loading category: 092.grapes\n",
            "loading category: 093.grasshopper\n",
            "loading category: 094.guitar-pick\n",
            "loading category: 095.hamburger\n",
            "loading category: 096.hammock\n",
            "loading category: 097.harmonica\n",
            "loading category: 098.harp\n",
            "loading category: 099.harpsichord\n",
            "loading category: 100.hawksbill-101\n",
            "loading category: 101.head-phones\n",
            "loading category: 102.helicopter-101\n",
            "loading category: 103.hibiscus\n",
            "loading category: 104.homer-simpson\n",
            "loading category: 105.horse\n",
            "loading category: 106.horseshoe-crab\n",
            "loading category: 107.hot-air-balloon\n",
            "loading category: 108.hot-dog\n",
            "loading category: 109.hot-tub\n",
            "loading category: 110.hourglass\n",
            "loading category: 111.house-fly\n",
            "loading category: 112.human-skeleton\n",
            "loading category: 113.hummingbird\n",
            "loading category: 114.ibis-101\n",
            "loading category: 115.ice-cream-cone\n",
            "loading category: 116.iguana\n",
            "loading category: 117.ipod\n",
            "loading category: 118.iris\n",
            "loading category: 119.jesus-christ\n",
            "loading category: 120.joy-stick\n",
            "loading category: 121.kangaroo-101\n",
            "loading category: 122.kayak\n",
            "loading category: 123.ketch-101\n",
            "loading category: 124.killer-whale\n",
            "loading category: 125.knife\n",
            "loading category: 126.ladder\n",
            "loading category: 127.laptop-101\n",
            "loading category: 128.lathe\n",
            "loading category: 129.leopards-101\n",
            "loading category: 130.license-plate\n",
            "loading category: 131.lightbulb\n",
            "loading category: 132.light-house\n",
            "loading category: 133.lightning\n",
            "loading category: 134.llama-101\n",
            "loading category: 135.mailbox\n",
            "loading category: 136.mandolin\n",
            "loading category: 137.mars\n",
            "loading category: 138.mattress\n",
            "loading category: 139.megaphone\n",
            "loading category: 140.menorah-101\n",
            "loading category: 141.microscope\n",
            "loading category: 142.microwave\n",
            "loading category: 143.minaret\n",
            "loading category: 144.minotaur\n",
            "loading category: 145.motorbikes-101\n",
            "loading category: 146.mountain-bike\n",
            "loading category: 147.mushroom\n",
            "loading category: 148.mussels\n",
            "loading category: 149.necktie\n",
            "loading category: 150.octopus\n",
            "loading category: 151.ostrich\n",
            "loading category: 152.owl\n",
            "loading category: 153.palm-pilot\n",
            "loading category: 154.palm-tree\n",
            "loading category: 155.paperclip\n",
            "loading category: 156.paper-shredder\n",
            "loading category: 157.pci-card\n",
            "loading category: 158.penguin\n",
            "loading category: 159.people\n",
            "loading category: 160.pez-dispenser\n",
            "loading category: 161.photocopier\n",
            "loading category: 162.picnic-table\n",
            "loading category: 163.playing-card\n",
            "loading category: 164.porcupine\n",
            "loading category: 165.pram\n",
            "loading category: 166.praying-mantis\n",
            "loading category: 167.pyramid\n",
            "loading category: 168.raccoon\n",
            "loading category: 169.radio-telescope\n",
            "loading category: 170.rainbow\n",
            "loading category: 171.refrigerator\n",
            "loading category: 172.revolver-101\n",
            "loading category: 173.rifle\n",
            "loading category: 174.rotary-phone\n",
            "loading category: 175.roulette-wheel\n",
            "loading category: 176.saddle\n",
            "loading category: 177.saturn\n",
            "loading category: 178.school-bus\n",
            "loading category: 179.scorpion-101\n",
            "loading category: 180.screwdriver\n",
            "loading category: 181.segway\n",
            "loading category: 182.self-propelled-lawn-mower\n",
            "loading category: 183.sextant\n",
            "loading category: 184.sheet-music\n",
            "loading category: 185.skateboard\n",
            "loading category: 186.skunk\n",
            "loading category: 187.skyscraper\n",
            "loading category: 188.smokestack\n",
            "loading category: 189.snail\n",
            "loading category: 190.snake\n",
            "loading category: 191.sneaker\n",
            "loading category: 192.snowmobile\n",
            "loading category: 193.soccer-ball\n",
            "loading category: 194.socks\n",
            "loading category: 195.soda-can\n",
            "loading category: 196.spaghetti\n",
            "loading category: 197.speed-boat\n",
            "loading category: 198.spider\n",
            "loading category: 199.spoon\n",
            "loading category: 200.stained-glass\n",
            "loading category: 201.starfish-101\n",
            "loading category: 202.steering-wheel\n",
            "loading category: 203.stirrups\n",
            "loading category: 204.sunflower-101\n",
            "loading category: 205.superman\n",
            "loading category: 206.sushi\n",
            "loading category: 207.swan\n",
            "loading category: 208.swiss-army-knife\n",
            "loading category: 209.sword\n",
            "loading category: 210.syringe\n",
            "loading category: 211.tambourine\n",
            "loading category: 212.teapot\n",
            "loading category: 213.teddy-bear\n",
            "loading category: 214.teepee\n",
            "loading category: 215.telephone-box\n",
            "loading category: 216.tennis-ball\n",
            "loading category: 217.tennis-court\n",
            "loading category: 218.tennis-racket\n",
            "loading category: 219.theodolite\n",
            "loading category: 220.toaster\n",
            "loading category: 221.tomato\n",
            "loading category: 222.tombstone\n",
            "loading category: 223.top-hat\n",
            "loading category: 224.touring-bike\n",
            "loading category: 225.tower-pisa\n",
            "loading category: 226.traffic-light\n",
            "loading category: 227.treadmill\n",
            "loading category: 228.triceratops\n",
            "loading category: 229.tricycle\n",
            "loading category: 230.trilobite-101\n",
            "loading category: 231.tripod\n",
            "loading category: 232.t-shirt\n",
            "loading category: 233.tuning-fork\n",
            "loading category: 234.tweezer\n",
            "loading category: 235.umbrella-101\n",
            "loading category: 236.unicorn\n",
            "loading category: 237.vcr\n",
            "loading category: 238.video-projector\n",
            "loading category: 239.washing-machine\n",
            "loading category: 240.watch-101\n",
            "loading category: 241.waterfall\n",
            "loading category: 242.watermelon\n",
            "loading category: 243.welding-mask\n",
            "loading category: 244.wheelbarrow\n",
            "loading category: 245.windmill\n",
            "loading category: 246.wine-bottle\n",
            "loading category: 247.xylophone\n",
            "loading category: 248.yarmulke\n",
            "loading category: 249.yo-yo\n",
            "loading category: 250.zebra\n",
            "loading category: 251.airplanes-101\n",
            "loading category: 252.car-side-101\n",
            "loading category: 253.faces-easy-101\n",
            "loading category: 254.greyhound\n",
            "loading category: 255.tennis-shoes\n",
            "loading category: 256.toad\n"
          ]
        }
      ]
    },
    {
      "cell_type": "code",
      "metadata": {
        "id": "eD24-X0xfWep",
        "colab": {
          "base_uri": "https://localhost:8080/"
        },
        "outputId": "227474fe-e178-4a5d-b342-25d866e00f03"
      },
      "source": [
        "print('Caltech101 X_train shape: ', X_train_101.shape)\n",
        "print('Caltech101 y_train shape: ', y_train_101.shape)\n",
        "print('Caltech101 X_test shape: ', X_test_101.shape)\n",
        "print('Caltech101 y_test shape: ', y_test_101.shape)\n",
        "\n",
        "print('Caltech256 X_train shape: ', X_train_256.shape)\n",
        "print('Caltech256 y_train shape: ', y_train_256.shape)\n",
        "print('Caltech256 X_test shape: ', X_test_256.shape)\n",
        "print('Caltech256 y_test shape: ', y_test_256.shape)"
      ],
      "execution_count": 7,
      "outputs": [
        {
          "output_type": "stream",
          "name": "stdout",
          "text": [
            "Caltech101 X_train shape:  (3030, 224, 224, 3)\n",
            "Caltech101 y_train shape:  (3030, 101)\n",
            "Caltech101 X_test shape:  (5647, 224, 224, 3)\n",
            "Caltech101 y_test shape:  (5647, 101)\n",
            "Caltech256 X_train shape:  (7680, 224, 224, 3)\n",
            "Caltech256 y_train shape:  (7680, 256)\n",
            "Caltech256 X_test shape:  (22100, 224, 224, 3)\n",
            "Caltech256 y_test shape:  (22100, 256)\n"
          ]
        }
      ]
    },
    {
      "cell_type": "markdown",
      "metadata": {
        "id": "v4XvJwapfpi6"
      },
      "source": [
        "# Creating feature vectors using DenseNet\n",
        "\n",
        "Feature vector is calculated using pre-trained DenseNet network."
      ]
    },
    {
      "cell_type": "code",
      "metadata": {
        "id": "OfI6s71pc6DL",
        "colab": {
          "base_uri": "https://localhost:8080/"
        },
        "outputId": "cebc80d2-0806-49d3-cfed-097be47a3175"
      },
      "source": [
        "densenet_model = K.applications.densenet.DenseNet121(weights='imagenet',\n",
        "                                              include_top=False,\n",
        "                                              input_shape=(224, 224, 3))\n",
        "\n",
        "input = K.Input(shape=(224, 224, 3))\n",
        "\n",
        "layer = K.applications.densenet.preprocess_input(input)\n",
        "layer = densenet_model(layer)\n",
        "layer = K.layers.GlobalAveragePooling2D()(layer)\n",
        "\n",
        "model = K.models.Model(inputs=input, outputs=layer)\n",
        "\n",
        "model.summary()"
      ],
      "execution_count": 8,
      "outputs": [
        {
          "output_type": "stream",
          "name": "stdout",
          "text": [
            "Model: \"model\"\n",
            "_________________________________________________________________\n",
            " Layer (type)                Output Shape              Param #   \n",
            "=================================================================\n",
            " input_2 (InputLayer)        [(None, 224, 224, 3)]     0         \n",
            "                                                                 \n",
            " tf.math.truediv (TFOpLambda  (None, 224, 224, 3)      0         \n",
            " )                                                               \n",
            "                                                                 \n",
            " tf.nn.bias_add (TFOpLambda)  (None, 224, 224, 3)      0         \n",
            "                                                                 \n",
            " tf.math.truediv_1 (TFOpLamb  (None, 224, 224, 3)      0         \n",
            " da)                                                             \n",
            "                                                                 \n",
            " densenet121 (Functional)    (None, 7, 7, 1024)        7037504   \n",
            "                                                                 \n",
            " global_average_pooling2d (G  (None, 1024)             0         \n",
            " lobalAveragePooling2D)                                          \n",
            "                                                                 \n",
            "=================================================================\n",
            "Total params: 7,037,504\n",
            "Trainable params: 6,953,856\n",
            "Non-trainable params: 83,648\n",
            "_________________________________________________________________\n"
          ]
        }
      ]
    },
    {
      "cell_type": "code",
      "metadata": {
        "id": "IC9Yhyjcimqr"
      },
      "source": [
        "def encode_as_csv(filename, model, X, labels, normalize=False):\n",
        "  # Embed the image using the model\n",
        "  X_features = model.predict(X)\n",
        "\n",
        "  if normalize:\n",
        "    X_features = preprocessing.normalize(X_features)\n",
        "\n",
        "  # Shuffle the data\n",
        "  perm = np.random.permutation(len(X_features))\n",
        "  X_features = X_features[perm]\n",
        "  labels = labels[perm]\n",
        "\n",
        "  # Create Pandas DataFrame\n",
        "  X_df = pd.DataFrame(X_features)\n",
        "  y_df = pd.DataFrame(labels).astype(int)\n",
        "\n",
        "  # Write CSV file\n",
        "  X_df.to_csv(filename + '_X.txt', index=False, header=False, sep=' ')\n",
        "  y_df.to_csv(filename + '_y.txt', index=False, header=False, sep=' ')"
      ],
      "execution_count": 9,
      "outputs": []
    },
    {
      "cell_type": "code",
      "metadata": {
        "id": "yU1jgCuVkgF9",
        "colab": {
          "base_uri": "https://localhost:8080/"
        },
        "outputId": "80e88ed2-8ba0-485b-fe44-67ae62c770a1"
      },
      "source": [
        "import gc\n",
        "gc.collect()\n",
        "encode_as_csv('caltech256_train', model, X_train_256, y_train_256)\n",
        "gc.collect()\n",
        "encode_as_csv('caltech256_test', model, X_test_256, y_test_256)\n",
        "gc.collect()\n",
        "encode_as_csv('caltech101_train', model, X_train_101, y_train_101, normalize=True)\n",
        "gc.collect()\n",
        "encode_as_csv('caltech101_test', model, X_test_101, y_test_101, normalize=True)\n",
        "gc.collect()"
      ],
      "execution_count": 10,
      "outputs": [
        {
          "output_type": "execute_result",
          "data": {
            "text/plain": [
              "786"
            ]
          },
          "metadata": {},
          "execution_count": 10
        }
      ]
    },
    {
      "cell_type": "code",
      "metadata": {
        "id": "x8WPUgjDbcqC"
      },
      "source": [
        "os.remove('/content/256_ObjectCategories.tar')\n",
        "shutil.rmtree('/content/256_ObjectCategories/')\n",
        "os.remove('/content/101_ObjectCategories.tar.gz')\n",
        "shutil.rmtree('/content/101_ObjectCategories/')\n",
        "%reset -f"
      ],
      "execution_count": 11,
      "outputs": []
    },
    {
      "cell_type": "markdown",
      "metadata": {
        "id": "24p8_sgnFhi4"
      },
      "source": [
        "# CUDA Installation"
      ]
    },
    {
      "cell_type": "code",
      "metadata": {
        "colab": {
          "base_uri": "https://localhost:8080/"
        },
        "id": "zAzOrefTFlT8",
        "outputId": "3f44443e-6a3d-4f83-d4ef-52f7b25a9918"
      },
      "source": [
        "!pip install git+git://github.com/andreinechaev/nvcc4jupyter.git\n",
        "%load_ext nvcc_plugin"
      ],
      "execution_count": 12,
      "outputs": [
        {
          "output_type": "stream",
          "name": "stdout",
          "text": [
            "Collecting git+git://github.com/andreinechaev/nvcc4jupyter.git\n",
            "  Cloning git://github.com/andreinechaev/nvcc4jupyter.git to /tmp/pip-req-build-b8ep5stq\n",
            "  Running command git clone -q git://github.com/andreinechaev/nvcc4jupyter.git /tmp/pip-req-build-b8ep5stq\n",
            "directory /content/src already exists\n",
            "Out bin /content/result.out\n"
          ]
        }
      ]
    },
    {
      "cell_type": "code",
      "metadata": {
        "colab": {
          "base_uri": "https://localhost:8080/"
        },
        "id": "MNSA3Qtg7bwV",
        "outputId": "d133581a-7a44-4293-aa74-9719281082bb"
      },
      "source": [
        "!nvcc --version"
      ],
      "execution_count": 13,
      "outputs": [
        {
          "output_type": "stream",
          "name": "stdout",
          "text": [
            "nvcc: NVIDIA (R) Cuda compiler driver\n",
            "Copyright (c) 2005-2020 NVIDIA Corporation\n",
            "Built on Mon_Oct_12_20:09:46_PDT_2020\n",
            "Cuda compilation tools, release 11.1, V11.1.105\n",
            "Build cuda_11.1.TC455_06.29190527_0\n"
          ]
        }
      ]
    },
    {
      "cell_type": "code",
      "metadata": {
        "colab": {
          "base_uri": "https://localhost:8080/"
        },
        "id": "GpKC9k1Q4mfk",
        "outputId": "fa5b929a-e45e-46be-9541-d585ff902d75"
      },
      "source": [
        "!nvidia-smi"
      ],
      "execution_count": 14,
      "outputs": [
        {
          "output_type": "stream",
          "name": "stdout",
          "text": [
            "Sun Dec 12 04:16:25 2021       \n",
            "+-----------------------------------------------------------------------------+\n",
            "| NVIDIA-SMI 495.44       Driver Version: 460.32.03    CUDA Version: 11.2     |\n",
            "|-------------------------------+----------------------+----------------------+\n",
            "| GPU  Name        Persistence-M| Bus-Id        Disp.A | Volatile Uncorr. ECC |\n",
            "| Fan  Temp  Perf  Pwr:Usage/Cap|         Memory-Usage | GPU-Util  Compute M. |\n",
            "|                               |                      |               MIG M. |\n",
            "|===============================+======================+======================|\n",
            "|   0  Tesla K80           Off  | 00000000:00:04.0 Off |                    0 |\n",
            "| N/A   70C    P0    73W / 149W |   8521MiB / 11441MiB |      0%      Default |\n",
            "|                               |                      |                  N/A |\n",
            "+-------------------------------+----------------------+----------------------+\n",
            "                                                                               \n",
            "+-----------------------------------------------------------------------------+\n",
            "| Processes:                                                                  |\n",
            "|  GPU   GI   CI        PID   Type   Process name                  GPU Memory |\n",
            "|        ID   ID                                                   Usage      |\n",
            "|=============================================================================|\n",
            "|  No running processes found                                                 |\n",
            "+-----------------------------------------------------------------------------+\n"
          ]
        }
      ]
    },
    {
      "cell_type": "markdown",
      "metadata": {
        "id": "u_qNz1JIqlwE"
      },
      "source": [
        "# CUDA ELM"
      ]
    },
    {
      "cell_type": "code",
      "metadata": {
        "colab": {
          "base_uri": "https://localhost:8080/",
          "height": 35
        },
        "id": "_f4zpL2fYd7k",
        "outputId": "c3a0e3da-d065-4870-aaf3-b0e96459a89e"
      },
      "source": [
        "%%cuda --name utils.h\n",
        "\n",
        "\n",
        "#include <fstream>\n",
        "\n",
        "using namespace std;\n",
        "\n",
        "//# read a matrix from file and load it into host memory\n",
        "void read_file(string filename, float* matrix, int rows, int cols)\n",
        "{\n",
        "    ifstream fin(filename);\n",
        "    for(int i=0; i<rows; i++) {\n",
        "        for(int j=0; j<cols; j++) {\n",
        "            float val;\n",
        "            fin >> val;\n",
        "            matrix[j*rows+i] = val;\n",
        "        }\n",
        "    }\n",
        "}\n",
        "\n",
        "//# write a matrix stored on host to file\n",
        "void write_file(string filename, float* matrix, int rows, int cols)\n",
        "{\n",
        "    ofstream fout(filename);\n",
        "    for(int i=0; i<rows; i++) {\n",
        "        for(int j=0; j<cols; j++) {\n",
        "            fout << (float)matrix[j*rows+i];\n",
        "            if(j != cols-1)\n",
        "              fout << \" \";\n",
        "        }\n",
        "        fout << \"\\n\";\n",
        "    }\n",
        "}\n",
        "\n",
        "//# Print a matrix stored on host\n",
        "void print_h(float* a, int rows, int cols, string title)\n",
        "{\n",
        "    printf(\" --- %s --- \\n\", title.c_str());\n",
        "    for(int i=0; i<rows; i++) {\n",
        "        for(int j=0; j<cols; j++) {\n",
        "            printf(\"%f \", a[j*rows+i]);\n",
        "        }\n",
        "        printf(\"\\n\");\n",
        "    }\n",
        "    printf(\"\\n\");\n",
        "}\n",
        "\n",
        "//# Print a matrix stored on device\n",
        "void print_d(float* d_a, int rows, int cols, string title)\n",
        "{\n",
        "    float* h_a = (float*) malloc(rows * cols * sizeof(float));\n",
        "    cudaMemcpy(h_a, d_a, rows * cols * sizeof(float), cudaMemcpyDeviceToHost);\n",
        "    print_h(h_a, rows, cols, title);\n",
        "    free(h_a);\n",
        "}\n"
      ],
      "execution_count": 15,
      "outputs": [
        {
          "output_type": "execute_result",
          "data": {
            "application/vnd.google.colaboratory.intrinsic+json": {
              "type": "string"
            },
            "text/plain": [
              "'File written in /content/src/utils.h'"
            ]
          },
          "metadata": {},
          "execution_count": 15
        }
      ]
    },
    {
      "cell_type": "code",
      "metadata": {
        "colab": {
          "base_uri": "https://localhost:8080/",
          "height": 35
        },
        "id": "Lr5ZH0sjRmLr",
        "outputId": "b180f6ec-3449-4e74-c747-dbb297838285"
      },
      "source": [
        "%%cuda --name activation.h\n",
        "\n",
        "\n",
        "#include <math.h>\n",
        "\n",
        "__global__ void sigmoid_activation_kernel(float *A, int rows, int cols)\n",
        "{\n",
        "    unsigned long r = blockIdx.x * blockDim.x + threadIdx.x;\n",
        "    unsigned long c = blockIdx.y * blockDim.y + threadIdx.y;\n",
        "    if(r < rows && c < cols) {\n",
        "      A[c*rows+r] = 1.0/(1+exp(-A[c*rows+r]));  \n",
        "    }\n",
        "}\n",
        "\n",
        "//# Applies the sigmoid function to the given input matrix\n",
        "//# Operates in-place\n",
        "void sigmoid_activation(float *A, int rows, int cols)\n",
        "{\n",
        "    dim3 threadsPerBlock(32, 32);\n",
        "    dim3 blocksPerGrid(ceil(rows/32.0), ceil(cols/32.0));\n",
        "  \n",
        "    sigmoid_activation_kernel<<<blocksPerGrid,threadsPerBlock>>>(A, rows, cols);\n",
        "    cudaDeviceSynchronize();\n",
        "}"
      ],
      "execution_count": 16,
      "outputs": [
        {
          "output_type": "execute_result",
          "data": {
            "application/vnd.google.colaboratory.intrinsic+json": {
              "type": "string"
            },
            "text/plain": [
              "'File written in /content/src/activation.h'"
            ]
          },
          "metadata": {},
          "execution_count": 16
        }
      ]
    },
    {
      "cell_type": "code",
      "source": [
        "%%cuda --name normal_random.h\n",
        "\n",
        "\n",
        "#include <math.h>\n",
        "\n",
        "__global__ void normal_random_kernel(float *A, int rows, int cols)\n",
        "{\n",
        "    unsigned long r = blockIdx.x * blockDim.x + threadIdx.x;\n",
        "    unsigned long c = blockIdx.y * blockDim.y + threadIdx.y;\n",
        "    if(r < rows && c < cols) {\n",
        "      A[c*rows+r] = A[c*rows+r] * 2 - 1;  \n",
        "    }\n",
        "}\n",
        "\n",
        "//# maps A[0, 1] to A[-1, 1]\n",
        "//# Operates in-place\n",
        "void normal_random(float *A, int rows, int cols)\n",
        "{\n",
        "    dim3 threadsPerBlock(32, 32);\n",
        "    dim3 blocksPerGrid(ceil(rows/32.0), ceil(cols/32.0));\n",
        "  \n",
        "    normal_random_kernel<<<blocksPerGrid,threadsPerBlock>>>(A, rows, cols);\n",
        "    cudaDeviceSynchronize();\n",
        "}"
      ],
      "metadata": {
        "colab": {
          "base_uri": "https://localhost:8080/",
          "height": 35
        },
        "id": "-eGo1c72tla9",
        "outputId": "83ed5a70-8284-43dd-a136-f539cc3c5a58"
      },
      "execution_count": 17,
      "outputs": [
        {
          "output_type": "execute_result",
          "data": {
            "application/vnd.google.colaboratory.intrinsic+json": {
              "type": "string"
            },
            "text/plain": [
              "'File written in /content/src/normal_random.h'"
            ]
          },
          "metadata": {},
          "execution_count": 17
        }
      ]
    },
    {
      "cell_type": "code",
      "metadata": {
        "colab": {
          "base_uri": "https://localhost:8080/",
          "height": 35
        },
        "id": "Q-zQOVxsovxT",
        "outputId": "34dc467c-5c22-4163-fb9e-723ca66236c0"
      },
      "source": [
        "%%cuda --name matmul.h\n",
        "\n",
        "#include <cuda_runtime.h>\n",
        "#include <device_launch_parameters.h>\n",
        "#include <cublas_v2.h>\n",
        "\n",
        "//# C(m,n) = A(m,k) * B(k,n)\n",
        "//# Input arrays must be on device\n",
        "void matmul(cublasHandle_t handle, float* A, float* B, float* C, int m, int n, int k)\n",
        "{\n",
        "    float alpha = 1.0f;\n",
        "    float beta = 0.0f;\n",
        " \n",
        "    cublasSgemm(handle, CUBLAS_OP_N, CUBLAS_OP_N, m, n, k, &alpha, A, m, B, k, &beta, C, m);\n",
        "    cudaDeviceSynchronize();\n",
        "}"
      ],
      "execution_count": 18,
      "outputs": [
        {
          "output_type": "execute_result",
          "data": {
            "application/vnd.google.colaboratory.intrinsic+json": {
              "type": "string"
            },
            "text/plain": [
              "'File written in /content/src/matmul.h'"
            ]
          },
          "metadata": {},
          "execution_count": 18
        }
      ]
    },
    {
      "cell_type": "code",
      "source": [
        "%%cuda --name inv.h\n",
        "\n",
        "\n",
        "//# Calculates the inverse of a square matrix of size (n, n)\n",
        "//# Returns the result as a new float*\n",
        "float* inv(cublasHandle_t handle, float* dL, int n)\n",
        "{\n",
        "\n",
        "    float** adL;\n",
        "    float** adC;\n",
        "    float* dC;\n",
        "    int* dLUPivots;\n",
        "    int* dLUInfo;\n",
        "\n",
        "    size_t a_bytes = n * n * sizeof(float);\n",
        "\n",
        "    cudaMalloc(&adL, sizeof(float*));\n",
        "    cudaMalloc(&adC, sizeof(float*));\n",
        "    cudaMalloc(&dC, a_bytes);\n",
        "    cudaMalloc(&dLUPivots, n * sizeof(int));\n",
        "    cudaMalloc(&dLUInfo, sizeof(int));\n",
        "\n",
        "    cudaMemcpy(adL, &dL, sizeof(float*), cudaMemcpyHostToDevice);\n",
        "    cudaMemcpy(adC, &dC, sizeof(float*), cudaMemcpyHostToDevice);\n",
        "\n",
        "    cublasSgetrfBatched(handle, n, adL, n, dLUPivots, dLUInfo, 1);\n",
        "    cudaDeviceSynchronize();\n",
        "\n",
        "    cublasSgetriBatched(handle, n, (const float **)adL, n, dLUPivots, adC, n, dLUInfo, 1);\n",
        "    cudaDeviceSynchronize();\n",
        " \n",
        "    cudaFree(adL);\n",
        "    cudaFree(adC);\n",
        "    cudaFree(dLUPivots);\n",
        "    cudaFree(dLUInfo);\n",
        "\n",
        "    return dC;\n",
        "}"
      ],
      "metadata": {
        "colab": {
          "base_uri": "https://localhost:8080/",
          "height": 35
        },
        "id": "sXDt4fZ8zdC_",
        "outputId": "26a21c0d-37bf-45bd-a789-3059bf28d0e7"
      },
      "execution_count": 19,
      "outputs": [
        {
          "output_type": "execute_result",
          "data": {
            "application/vnd.google.colaboratory.intrinsic+json": {
              "type": "string"
            },
            "text/plain": [
              "'File written in /content/src/inv.h'"
            ]
          },
          "metadata": {},
          "execution_count": 19
        }
      ]
    },
    {
      "cell_type": "code",
      "metadata": {
        "colab": {
          "base_uri": "https://localhost:8080/",
          "height": 35
        },
        "id": "s5sNUOvMGlyf",
        "outputId": "78134609-42f8-4d4c-93da-e74c4040df7c"
      },
      "source": [
        "%%cuda --name pinv.h\n",
        "\n",
        "#include <cuda_runtime.h>\n",
        "#include <device_launch_parameters.h>\n",
        "#include <cublas_v2.h>\n",
        "#include \"inv.h\"\n",
        "\n",
        "//# Calculates the pseudo-inverse of a matrix of size (rows, cols)\n",
        "//# Stores the result in A_pinv\n",
        "void pinv(cublasHandle_t handle, float* A, float* A_pinv, int rows, int cols)\n",
        "{\n",
        "    float alpha = 1.0f;\n",
        "    float beta = 0.0f;\n",
        "\n",
        "    float* B;\n",
        "    cudaMalloc(&B, cols*cols*sizeof(float));\n",
        " \n",
        "    float* B_inv;\n",
        "    cudaMalloc(&B_inv, cols*cols*sizeof(float));\n",
        "\n",
        "    cublasSgemm(handle, CUBLAS_OP_T, CUBLAS_OP_N, cols, cols, rows, &alpha, A, rows, A, rows, &beta, B, cols);\n",
        "    cudaDeviceSynchronize();\n",
        "    \n",
        "    B_inv = inv(handle, B, cols);\n",
        "    \n",
        "    cublasSgemm(handle, CUBLAS_OP_N, CUBLAS_OP_T, cols, rows, cols, &alpha, B_inv, cols, A, rows, &beta, A_pinv, cols);\n",
        "    cudaDeviceSynchronize();\n",
        "}"
      ],
      "execution_count": 20,
      "outputs": [
        {
          "output_type": "execute_result",
          "data": {
            "application/vnd.google.colaboratory.intrinsic+json": {
              "type": "string"
            },
            "text/plain": [
              "'File written in /content/src/pinv.h'"
            ]
          },
          "metadata": {},
          "execution_count": 20
        }
      ]
    },
    {
      "cell_type": "code",
      "source": [
        "%%cuda --name=elm.h\n",
        "\n",
        "\n",
        "#include <cuda_runtime.h>\n",
        "#include <device_launch_parameters.h>\n",
        "#include <cublas_v2.h>\n",
        "#include <curand.h>\n",
        "#include <stdlib.h>\n",
        "\n",
        "#include \"activation.h\"\n",
        "#include \"normal_random.h\"\n",
        "#include \"utils.h\"\n",
        "#include \"matmul.h\"\n",
        "#include \"pinv.h\"\n",
        "\n",
        "using namespace std;\n",
        "\n",
        "//# Trains the ELM based on train data and then predicts the results\n",
        "//# for both training and testing data.\n",
        "//# Saves the results in a text file\n",
        "void ELM(string X_train_file, string X_test_file, string y_train_file,\n",
        "         string y_test_file, string train_preds_file, string test_preds_file,\n",
        "         int n_samples_train, int n_samples_test, int n_features, int n_classes,\n",
        "         int n_hidden)\n",
        "{   \n",
        "    //# Define variables\n",
        "    float *h_X_train, *h_X_test, *h_Y_train, *h_Y_test, *h_Y_hat_train, *h_Y_hat_test;\n",
        "    float *d_X_train, *d_X_test, *d_Y_train, *d_Y_test, *d_Y_hat_train, *d_Y_hat_test;\n",
        "    float *d_W, *d_H, *d_H_pinv, *d_beta, *d_H_test;\n",
        "\n",
        "    //# Calculate memory usage for arrays\n",
        "    size_t X_train_bytes = n_samples_train * n_features * sizeof(float);\n",
        "    size_t X_test_bytes = n_samples_test * n_features * sizeof(float);\n",
        "    size_t W_bytes = n_features * n_hidden * sizeof(float);\n",
        "    size_t H_bytes = n_samples_train * n_hidden * sizeof(float);\n",
        "    size_t H_test_bytes = n_samples_test * n_hidden * sizeof(float);\n",
        "    size_t beta_bytes = n_hidden * n_classes * sizeof(float);\n",
        "    size_t Y_train_bytes = n_samples_train * n_classes * sizeof(float);\n",
        "    size_t Y_test_bytes = n_samples_test * n_classes * sizeof(float);\n",
        " \n",
        "    //# Allocate memory on CPU\n",
        "    h_X_train = (float*) malloc(X_train_bytes);\n",
        "    h_X_test = (float*) malloc(X_test_bytes);\n",
        "    h_Y_train = (float*) malloc(Y_train_bytes);\n",
        "    h_Y_test = (float*) malloc(Y_test_bytes);\n",
        "    h_Y_hat_train = (float*) malloc(Y_train_bytes);\n",
        "    h_Y_hat_test = (float*) malloc(Y_test_bytes);\n",
        " \n",
        "    //# Allocate memory on GPU\n",
        "    cudaMalloc(&d_X_train, X_train_bytes);\n",
        "    cudaMalloc(&d_X_test, X_test_bytes);\n",
        "    cudaMalloc(&d_W, W_bytes);\n",
        "    cudaMalloc(&d_H, H_bytes);\n",
        "    cudaMalloc(&d_H_test, H_test_bytes);\n",
        "    cudaMalloc(&d_H_pinv, H_bytes);\n",
        "    cudaMalloc(&d_beta, beta_bytes);\n",
        "    cudaMalloc(&d_Y_train, Y_train_bytes);\n",
        "    cudaMalloc(&d_Y_test, Y_test_bytes);\n",
        "    cudaMalloc(&d_Y_hat_train, Y_train_bytes);\n",
        "    cudaMalloc(&d_Y_hat_test, Y_test_bytes);\n",
        " \n",
        "    //# Create CuBlas handle\n",
        "    cublasHandle_t handle;\n",
        "    cublasCreate(&handle);\n",
        " \n",
        "    //# Create and seed the cuda random generator\n",
        "    curandGenerator_t prng;\n",
        "    curandCreateGenerator(&prng, CURAND_RNG_PSEUDO_DEFAULT);\n",
        "    curandSetPseudoRandomGeneratorSeed(prng, 1);\n",
        " \n",
        "    //# Read X_train file\n",
        "    read_file(X_train_file, h_X_train, n_samples_train, n_features);\n",
        "    cudaMemcpy(d_X_train, h_X_train, X_train_bytes, cudaMemcpyHostToDevice);\n",
        " \n",
        "    //# Read X_test file\n",
        "    read_file(X_test_file, h_X_test, n_samples_test, n_features);\n",
        "    cudaMemcpy(d_X_test, h_X_test, X_test_bytes, cudaMemcpyHostToDevice);\n",
        " \n",
        "    //# Read y_train file\n",
        "    read_file(y_train_file, h_Y_train, n_samples_train, n_classes);\n",
        "    cudaMemcpy(d_Y_train, h_Y_train, Y_train_bytes, cudaMemcpyHostToDevice);\n",
        " \n",
        "    //# Read y_test file\n",
        "    read_file(y_test_file, h_Y_test, n_samples_test, n_classes);\n",
        "    cudaMemcpy(d_Y_test, h_Y_test, Y_test_bytes, cudaMemcpyHostToDevice);\n",
        " \n",
        "    //# Generate a random W -> uniform(-1, 1)\n",
        "    curandGenerateUniform(prng, d_W, n_features * n_hidden);\n",
        "    normal_random(d_W, n_features, n_hidden);\n",
        "    cudaDeviceSynchronize();\n",
        " \n",
        "    //# Calculate H for training data\n",
        "    matmul(handle, d_X_train, d_W, d_H, n_samples_train, n_hidden, n_features);\n",
        "    sigmoid_activation(d_H, n_samples_train, n_hidden);\n",
        "\n",
        "    //# Calculate pseudo-inverse of H\n",
        "    pinv(handle, d_H, d_H_pinv, n_samples_train, n_hidden);\n",
        " \n",
        "    //# Calculate beta\n",
        "    matmul(handle, d_H_pinv, d_Y_train, d_beta, n_hidden, n_classes, n_samples_train);\n",
        " \n",
        "    //# Predict the result on training data\n",
        "    matmul(handle, d_H, d_beta, d_Y_hat_train, n_samples_train, n_classes, n_hidden);\n",
        "    cudaMemcpy(h_Y_hat_train, d_Y_hat_train, Y_train_bytes, cudaMemcpyDeviceToHost);\n",
        " \n",
        "    //# Predict the result on test data\n",
        "    matmul(handle, d_X_test, d_W, d_H_test, n_samples_test, n_hidden, n_features);\n",
        "    sigmoid_activation(d_H_test, n_samples_test, n_hidden);\n",
        "    matmul(handle, d_H_test, d_beta, d_Y_hat_test, n_samples_test, n_classes, n_hidden);\n",
        "    cudaMemcpy(h_Y_hat_test, d_Y_hat_test, Y_test_bytes, cudaMemcpyDeviceToHost);\n",
        " \n",
        "    //# Write predicted results into file\n",
        "    write_file(train_preds_file, h_Y_hat_train, n_samples_train, n_classes);\n",
        "    write_file(test_preds_file, h_Y_hat_test, n_samples_test, n_classes);\n",
        "}"
      ],
      "metadata": {
        "colab": {
          "base_uri": "https://localhost:8080/",
          "height": 35
        },
        "id": "4h621D2lXQgv",
        "outputId": "bbb36166-5ebd-4575-ff70-8f97ed17dd4b"
      },
      "execution_count": 21,
      "outputs": [
        {
          "output_type": "execute_result",
          "data": {
            "application/vnd.google.colaboratory.intrinsic+json": {
              "type": "string"
            },
            "text/plain": [
              "'File written in /content/src/elm.h'"
            ]
          },
          "metadata": {},
          "execution_count": 21
        }
      ]
    },
    {
      "cell_type": "code",
      "source": [
        "%%cuda --name=input_parser.h\n",
        "\n",
        "#include <vector>\n",
        "#include <algorithm>\n",
        "\n",
        "//# Simple command line argument parser\n",
        "//# https://stackoverflow.com/questions/865668/parsing-command-line-arguments-in-c\n",
        "class InputParser{\n",
        "    public:\n",
        "        InputParser (int &argc, char **argv){\n",
        "            for (int i=1; i < argc; ++i)\n",
        "                this->tokens.push_back(std::string(argv[i]));\n",
        "        }\n",
        "        /// @author iain\n",
        "        const std::string& getCmdOption(const std::string &option) const{\n",
        "            std::vector<std::string>::const_iterator itr;\n",
        "            itr =  std::find(this->tokens.begin(), this->tokens.end(), option);\n",
        "            if (itr != this->tokens.end() && ++itr != this->tokens.end()){\n",
        "                return *itr;\n",
        "            }\n",
        "            static const std::string empty_string(\"\");\n",
        "            return empty_string;\n",
        "        }\n",
        "        /// @author iain\n",
        "        bool cmdOptionExists(const std::string &option) const{\n",
        "            return std::find(this->tokens.begin(), this->tokens.end(), option)\n",
        "                   != this->tokens.end();\n",
        "        }\n",
        "    private:\n",
        "        std::vector <std::string> tokens;\n",
        "};"
      ],
      "metadata": {
        "colab": {
          "base_uri": "https://localhost:8080/",
          "height": 35
        },
        "id": "u0dx2_Faeu_P",
        "outputId": "264dc4e3-800e-4a8a-dce8-796892dbfd42"
      },
      "execution_count": 22,
      "outputs": [
        {
          "output_type": "execute_result",
          "data": {
            "application/vnd.google.colaboratory.intrinsic+json": {
              "type": "string"
            },
            "text/plain": [
              "'File written in /content/src/input_parser.h'"
            ]
          },
          "metadata": {},
          "execution_count": 22
        }
      ]
    },
    {
      "cell_type": "code",
      "metadata": {
        "id": "ECsFoeeBynvs",
        "colab": {
          "base_uri": "https://localhost:8080/",
          "height": 35
        },
        "outputId": "a611a2c6-00b9-4d05-fdab-a7158669b919"
      },
      "source": [
        "%%cuda --name caltech101.cu \n",
        "\n",
        "#include <iostream>\n",
        "\n",
        "#include \"elm.h\"\n",
        "#include \"input_parser.h\"\n",
        "\n",
        "using namespace std;\n",
        "\n",
        "int main(int argc, char** argv)\n",
        "{\n",
        "    int n_features = 1024;\n",
        "    int n_samples_train = 3030;\n",
        "    int n_samples_test = 5647;\n",
        "    int n_hidden = 1000;\n",
        "    int n_classes = 101;\n",
        "\n",
        "    string X_train_file = \"caltech101_train_X.txt\";\n",
        "    string X_test_file = \"caltech101_test_X.txt\";\n",
        "    string y_train_file = \"caltech101_train_y.txt\";\n",
        "    string y_test_file = \"caltech101_train_y.txt\";\n",
        "    string train_preds_file = \"caltech101_train_preds.txt\";\n",
        "    string test_preds_file = \"caltech101_test_preds.txt\";\n",
        " \n",
        "    InputParser input(argc, argv);\n",
        "    const string &hidden_units = input.getCmdOption(\"-h\");\n",
        "    if (!hidden_units.empty()){\n",
        "        n_hidden = stoi(hidden_units);\n",
        "    }\n",
        " \n",
        "    cout << \"Caltech 101\\n\";\n",
        "    cout << \"Input X_train file: \" << X_train_file << \"\\n\";\n",
        "    cout << \"Input X_test file: \" << X_test_file << \"\\n\";\n",
        "    cout << \"Input y_train file: \" << y_train_file << \"\\n\";\n",
        "    cout << \"Input y_test file: \" << y_test_file << \"\\n\";\n",
        "    cout << \"Output predictions on train data file: \" << train_preds_file << \"\\n\";\n",
        "    cout << \"Output predictions on test data file: \" << test_preds_file << \"\\n\";\n",
        "    cout << \"---------------------------------------------------------------\\n\";\n",
        "    cout << \"Number of input features: \" << n_features << \"\\n\";\n",
        "    cout << \"Number of training samples: \" << n_samples_train << \"\\n\";\n",
        "    cout << \"Number of testing samples: \" << n_samples_test << \"\\n\";\n",
        "    cout << \"Number of classes: \" << n_classes << \"\\n\";\n",
        "    cout << \"Number of hidden units: \" << n_hidden << \"\\n\";\n",
        "  \n",
        "    cout << \"Training started...\\n\";\n",
        " \n",
        "    ELM(X_train_file, X_test_file, y_train_file, y_test_file, train_preds_file,\n",
        "        test_preds_file, n_samples_train, n_samples_test, n_features, n_classes, n_hidden);\n",
        " \n",
        "    cout << \"Training completed!\\n\";\n",
        "\n",
        "    return 0;\n",
        "}"
      ],
      "execution_count": 23,
      "outputs": [
        {
          "output_type": "execute_result",
          "data": {
            "application/vnd.google.colaboratory.intrinsic+json": {
              "type": "string"
            },
            "text/plain": [
              "'File written in /content/src/caltech101.cu'"
            ]
          },
          "metadata": {},
          "execution_count": 23
        }
      ]
    },
    {
      "cell_type": "code",
      "source": [
        "%%cuda --name caltech256.cu \n",
        "\n",
        "#include <iostream>\n",
        "\n",
        "#include \"elm.h\"\n",
        "#include \"input_parser.h\"\n",
        "\n",
        "using namespace std;\n",
        "\n",
        "int main(int argc, char** argv)\n",
        "{\n",
        "    int n_features = 1024;\n",
        "    int n_samples_train = 7680;\n",
        "    int n_samples_test = 22100;\n",
        "    int n_hidden = 4000;\n",
        "    int n_classes = 256;\n",
        "\n",
        "    string X_train_file = \"caltech256_train_X.txt\";\n",
        "    string X_test_file = \"caltech256_test_X.txt\";\n",
        "    string y_train_file = \"caltech256_train_y.txt\";\n",
        "    string y_test_file = \"caltech256_train_y.txt\";\n",
        "    string train_preds_file = \"caltech256_train_preds.txt\";\n",
        "    string test_preds_file = \"caltech256_test_preds.txt\";\n",
        " \n",
        "    InputParser input(argc, argv);\n",
        "    const string &hidden_units = input.getCmdOption(\"-h\");\n",
        "    if (!hidden_units.empty()){\n",
        "        n_hidden = stoi(hidden_units);\n",
        "    }\n",
        " \n",
        "    cout << \"Caltech 256\\n\";\n",
        "    cout << \"Input X_train file: \" << X_train_file << \"\\n\";\n",
        "    cout << \"Input X_test file: \" << X_test_file << \"\\n\";\n",
        "    cout << \"Input y_train file: \" << y_train_file << \"\\n\";\n",
        "    cout << \"Input y_test file: \" << y_test_file << \"\\n\";\n",
        "    cout << \"Output predictions on train data file: \" << train_preds_file << \"\\n\";\n",
        "    cout << \"Output predictions on test data file: \" << test_preds_file << \"\\n\";\n",
        "    cout << \"---------------------------------------------------------------\\n\";\n",
        "    cout << \"Number of input features: \" << n_features << \"\\n\";\n",
        "    cout << \"Number of training samples: \" << n_samples_train << \"\\n\";\n",
        "    cout << \"Number of testing samples: \" << n_samples_test << \"\\n\";\n",
        "    cout << \"Number of classes: \" << n_classes << \"\\n\";\n",
        "    cout << \"Number of hidden units: \" << n_hidden << \"\\n\";\n",
        "  \n",
        "    cout << \"Training started...\\n\";\n",
        " \n",
        "    ELM(X_train_file, X_test_file, y_train_file, y_test_file, train_preds_file,\n",
        "        test_preds_file, n_samples_train, n_samples_test, n_features, n_classes, n_hidden);\n",
        " \n",
        "    cout << \"Training completed!\\n\";\n",
        "\n",
        "    return 0;\n",
        "}"
      ],
      "metadata": {
        "colab": {
          "base_uri": "https://localhost:8080/",
          "height": 35
        },
        "id": "gXPlGft8hIbc",
        "outputId": "ee83e0fc-4119-45d1-ad7b-612b16077ea2"
      },
      "execution_count": 24,
      "outputs": [
        {
          "output_type": "execute_result",
          "data": {
            "application/vnd.google.colaboratory.intrinsic+json": {
              "type": "string"
            },
            "text/plain": [
              "'File written in /content/src/caltech256.cu'"
            ]
          },
          "metadata": {},
          "execution_count": 24
        }
      ]
    },
    {
      "cell_type": "code",
      "metadata": {
        "id": "BzNrOCOj1-aN"
      },
      "source": [
        "!nvcc -o /content/src/caltech101 /content/src/caltech101.cu -lcurand -lcublas -gencode arch=compute_37,code=compute_37 -Wno-deprecated-gpu-targets\n",
        "!nvcc -o /content/src/caltech256 /content/src/caltech256.cu -lcurand -lcublas -gencode arch=compute_37,code=compute_37 -Wno-deprecated-gpu-targets"
      ],
      "execution_count": 25,
      "outputs": []
    },
    {
      "cell_type": "code",
      "source": [
        "!/content/src/caltech101 -h 200"
      ],
      "metadata": {
        "id": "9sq6xkM2MDo3",
        "colab": {
          "base_uri": "https://localhost:8080/"
        },
        "outputId": "25fac218-1f8b-433a-f22c-06f251b17b6a"
      },
      "execution_count": 26,
      "outputs": [
        {
          "output_type": "stream",
          "name": "stdout",
          "text": [
            "Caltech 101\n",
            "Input X_train file: caltech101_train_X.txt\n",
            "Input X_test file: caltech101_test_X.txt\n",
            "Input y_train file: caltech101_train_y.txt\n",
            "Input y_test file: caltech101_train_y.txt\n",
            "Output predictions on train data file: caltech101_train_preds.txt\n",
            "Output predictions on test data file: caltech101_test_preds.txt\n",
            "---------------------------------------------------------------\n",
            "Number of input features: 1024\n",
            "Number of training samples: 3030\n",
            "Number of testing samples: 5647\n",
            "Number of classes: 101\n",
            "Number of hidden units: 200\n",
            "Training started...\n",
            "Training completed!\n"
          ]
        }
      ]
    },
    {
      "cell_type": "code",
      "source": [
        "import matplotlib.pyplot as plt\n",
        "import pandas as pd\n",
        "import numpy as np\n",
        "import os\n",
        "import time\n",
        "\n",
        "\n",
        "def score(y, y_hat):\n",
        "  return np.sum(np.argmax(y_hat, axis=-1) == np.argmax(y, axis=-1)) / len(y)\n",
        "\n",
        "hidden_units = [5, 20, 50, 100, 200, 500, 768]\n",
        "train_accuracy = []\n",
        "test_accuracy = []\n",
        "run_time = []\n",
        "\n",
        "for n_h in hidden_units:\n",
        "  t = time.time()\n",
        "  os.system('/content/src/caltech101 -h %d' % n_h)\n",
        "  tt = time.time() - t\n",
        "\n",
        "  train_y = pd.read_csv('caltech101_train_y.txt', sep=' ', header=None).to_numpy()\n",
        "  test_y = pd.read_csv('caltech101_test_y.txt', sep=' ', header=None).to_numpy()\n",
        "  train_preds = pd.read_csv('caltech101_train_preds.txt', sep=' ', header=None).to_numpy()\n",
        "  test_preds = pd.read_csv('caltech101_test_preds.txt', sep=' ', header=None).to_numpy()\n",
        "\n",
        "  train_accuracy.append(score(train_y, train_preds))\n",
        "  test_accuracy.append(score(test_y, test_preds))\n",
        "  run_time.append(tt)\n",
        "\n",
        "print('Training accuracy: ', train_accuracy)\n",
        "print('Testing accuracy: ', test_accuracy)\n",
        "print('Run time: ', run_time)\n",
        "\n",
        "fig,ax = plt.subplots()\n",
        "ax.plot(hidden_units, train_accuracy, label='Train Accuracy')\n",
        "ax.plot(hidden_units, test_accuracy, label='Test Accuracy')\n",
        "ax.set_title('Number of hidden units vs. Caltech101 accuracy vs. Run time')\n",
        "ax.set_xlabel('Number of hidden units')\n",
        "ax.set_ylabel('Accuracy')\n",
        "ax.legend()\n",
        "\n",
        "ax2=ax.twinx()\n",
        "ax2.plot(hidden_units, run_time, 'r--', label='Run time')\n",
        "ax2.set_ylabel('Run time (s)')\n",
        "\n",
        "plt.show()"
      ],
      "metadata": {
        "id": "kf3qFDOqUP7x",
        "colab": {
          "base_uri": "https://localhost:8080/",
          "height": 346
        },
        "outputId": "c7ce3714-ead4-4c83-f49a-b5d186bed4c4"
      },
      "execution_count": 27,
      "outputs": [
        {
          "output_type": "stream",
          "name": "stdout",
          "text": [
            "Training accuracy:  [0.09966996699669967, 0.49174917491749176, 0.7864686468646864, 0.9006600660066006, 0.9541254125412542, 0.9910891089108911, 0.999009900990099]\n",
            "Testing accuracy:  [0.08057375597662475, 0.5126615902248982, 0.8170710111563663, 0.8767487161324597, 0.9171241367097573, 0.9443952541172304, 0.9419160616256419]\n",
            "Run time:  [5.350808620452881, 5.258537530899048, 5.167417526245117, 5.002078056335449, 5.1820666790008545, 5.397846937179565, 5.890576124191284]\n"
          ]
        },
        {
          "output_type": "display_data",
          "data": {
            "image/png": "[encoded data removed]",
            "text/plain": [
              "<Figure size 432x288 with 2 Axes>"
            ]
          },
          "metadata": {
            "needs_background": "light"
          }
        }
      ]
    },
    {
      "cell_type": "code",
      "source": [
        "import matplotlib.pyplot as plt\n",
        "import pandas as pd\n",
        "import numpy as np\n",
        "import os\n",
        "import time\n",
        "\n",
        "\n",
        "def score(y, y_hat):\n",
        "  return np.sum(np.argmax(y_hat, axis=-1) == np.argmax(y, axis=-1)) / len(y)\n",
        "\n",
        "hidden_units = [5, 20, 50, 100, 200, 500, 1000, 2000, 5000]\n",
        "train_accuracy = []\n",
        "test_accuracy = []\n",
        "run_time = []\n",
        "\n",
        "for n_h in hidden_units:\n",
        "  t = time.time()\n",
        "  os.system('/content/src/caltech256 -h %d' % n_h)\n",
        "  tt = time.time() - t\n",
        "\n",
        "  train_y = pd.read_csv('caltech256_train_y.txt', sep=' ', header=None).to_numpy()\n",
        "  test_y = pd.read_csv('caltech256_test_y.txt', sep=' ', header=None).to_numpy()\n",
        "  train_preds = pd.read_csv('caltech256_train_preds.txt', sep=' ', header=None).to_numpy()\n",
        "  test_preds = pd.read_csv('caltech256_test_preds.txt', sep=' ', header=None).to_numpy()\n",
        "\n",
        "  train_accuracy.append(score(train_y, train_preds))\n",
        "  test_accuracy.append(score(test_y, test_preds))\n",
        "  run_time.append(tt)\n",
        "\n",
        "print('Training accuracy: ', train_accuracy)\n",
        "print('Testing accuracy: ', test_accuracy)\n",
        "print('Run time: ', run_time)\n",
        "\n",
        "fig,ax = plt.subplots()\n",
        "ax.plot(hidden_units, train_accuracy, label='Train Accuracy')\n",
        "ax.plot(hidden_units, test_accuracy, label='Test Accuracy')\n",
        "ax.set_title('Number of hidden units vs. Caltech256 accuracy vs. Run time')\n",
        "ax.set_xlabel('Number of hidden units')\n",
        "ax.set_ylabel('Accuracy')\n",
        "ax.legend()\n",
        "\n",
        "ax2=ax.twinx()\n",
        "ax2.plot(hidden_units, run_time, 'r--', label='Run time')\n",
        "ax2.set_ylabel('Run time (s)')\n",
        "\n",
        "plt.show()"
      ],
      "metadata": {
        "colab": {
          "base_uri": "https://localhost:8080/",
          "height": 366
        },
        "id": "kHvvkcKT2Ee4",
        "outputId": "a7f32137-2c96-456d-ca4a-6aebc59b4f64"
      },
      "execution_count": 28,
      "outputs": [
        {
          "output_type": "stream",
          "name": "stdout",
          "text": [
            "Training accuracy:  [0.018619791666666666, 0.16471354166666666, 0.4180989583333333, 0.6213541666666667, 0.7740885416666666, 0.9190104166666667, 0.980859375, 0.99921875, 1.0]\n",
            "Testing accuracy:  [0.015429864253393665, 0.15687782805429865, 0.3685067873303167, 0.522262443438914, 0.6226696832579186, 0.7080542986425339, 0.7430316742081448, 0.7617647058823529, 0.7214027149321267]\n",
            "Run time:  [19.267172813415527, 18.932897090911865, 18.28348135948181, 18.1601140499115, 19.176130771636963, 18.593515396118164, 19.686644554138184, 26.571058988571167, 144.37462162971497]\n"
          ]
        },
        {
          "output_type": "display_data",
          "data": {
            "image/png": "[encoded data removed]",
            "text/plain": [
              "<Figure size 432x288 with 2 Axes>"
            ]
          },
          "metadata": {
            "needs_background": "light"
          }
        }
      ]
    },
    {
      "cell_type": "code",
      "source": [
        ""
      ],
      "metadata": {
        "id": "tM1w3tGwna_7"
      },
      "execution_count": 28,
      "outputs": []
    }
  ]
}